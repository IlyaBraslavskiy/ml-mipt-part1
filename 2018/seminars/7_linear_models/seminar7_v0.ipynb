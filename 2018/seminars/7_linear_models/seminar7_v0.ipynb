{
 "cells": [
  {
   "cell_type": "markdown",
   "metadata": {},
   "source": [
    "<span style=\"font-size: 14pt\">ФИВТ, АПТ, Курс по машинному обучению, Весна 2018, семинар 7 (ДРАФТ)</span> \n",
    "\n",
    "<span style=\"color:blue; font-size: 12pt\">Alexey Romanenko, </span>\n",
    "<span style=\"color:blue; font-size: 12pt; font-family: 'Verdana'\">alexromsput@gmail.com</span>"
   ]
  },
  {
   "cell_type": "markdown",
   "metadata": {},
   "source": [
    "# Linear models\n",
    "<h3> Plan </h3>\n",
    "\n",
    "\n",
    "* **SVM: theory (20 minute) **\n",
    "\n",
    " - Learning algorithm\n",
    " - Kernel Trick\n",
    " - MultiClasss SVM\n",
    " \n",
    " \n",
    "* **SVM: example of realization (40 minute) **\n",
    " - SVM в Sklearn\n",
    " - Реализация simple SVM\n",
    " - True SVM\n",
    " \n",
    " \n",
    "* ** Use cases (20 minute)**\n",
    " - Use case: Budget optimization\n",
    " - HW2: solution\n",
    " - HW5: explanation  "
   ]
  },
  {
   "cell_type": "code",
   "execution_count": 4,
   "metadata": {},
   "outputs": [],
   "source": [
    "import os\n",
    "import numpy as np\n",
    "import seaborn as sns\n",
    "# import _pickle as pickle  # use for Python 2: import cPickle as pickle\n",
    "import matplotlib.pyplot as plt\n",
    "\n",
    "from matplotlib.colors import ListedColormap\n",
    "from matplotlib.pyplot import plot, contourf, clabel, contour\n",
    "\n",
    "from matplotlib import cm\n",
    "from sklearn.preprocessing import StandardScaler\n",
    "from sklearn.datasets import fetch_20newsgroups, make_classification\n",
    "\n",
    "%matplotlib inline\n",
    "sns.set_context(\"notebook\", font_scale=1.5)\n",
    "import random\n",
    "# from IPython.display import Image, SVG\n",
    "from scipy import optimize"
   ]
  },
  {
   "cell_type": "markdown",
   "metadata": {},
   "source": [
    "-------\n",
    "<h1 align=\"center\">SVM</h1> "
   ]
  },
  {
   "cell_type": "markdown",
   "metadata": {},
   "source": [
    "# SVM для линейных выборок"
   ]
  },
  {
   "cell_type": "markdown",
   "metadata": {},
   "source": [
    "** Вопросы **\n",
    "* Какая функция штрафа используется в SVM?\n",
    "* Какой метод регуляризации используется в SVM? \n",
    "* В чём основная идея SVM? \n",
    "* Что такое \n",
    "    - разделяющая гиперплоскость\n",
    "    - опорный вектор\n",
    "    - Margin?\n",
    "* Как обучаются $w$ методом SVM?"
   ]
  },
  {
   "cell_type": "markdown",
   "metadata": {},
   "source": [
    "<center> Svm_max_sep_hyperplane_with_margin.png </center>\n",
    "<img src=\"http://upload.wikimedia.org/wikipedia/commons/2/2a/Svm_max_sep_hyperplane_with_margin.png\" width=\"50%\">"
   ]
  },
  {
   "cell_type": "markdown",
   "metadata": {},
   "source": [
    "## $$ L_i = \\sum_{j, j \\neq y_i} max(0, w_j^tx - w_{y_i}^tx + 1)$$"
   ]
  },
  {
   "cell_type": "markdown",
   "metadata": {},
   "source": [
    "### Quadratic Programming (QP) Problem:\n",
    "\n",
    "## $$ b = w_0 $$\n",
    "\n",
    "## $$ \\min_{i = 1, \\ldots, l} y_i (<w, x_i> - w_0)  = 1 $$\n",
    "\n",
    "Linear Separability\n",
    "\n",
    "## \\begin{cases}\n",
    "    <w, w> \\to \\min\\limits_{w} \\\\\n",
    "    y_i (<w, x_i> - w_0) \\geq 1, i = 1, \\ldots, l\n",
    "\\end{cases}\n",
    "\n",
    "Linear Inseparability\n",
    "\n",
    "## \\begin{cases}\n",
    "    \\frac{1}{2} <w, w> + C \\sum\\limits_{i=1}^{l} \\xi_i \\to \\min\\limits_{w, \\xi} \\\\\n",
    "    y_i (<w, x_i> - w_0) \\geq 1 - \\xi_i, i = 1, \\ldots, l \\\\\n",
    "    \\xi_i \\geq 0, i = 1, \\ldots, l\n",
    "\\end{cases}"
   ]
  },
  {
   "cell_type": "markdown",
   "metadata": {},
   "source": [
    "## Linear Model Equivalence\n",
    "\n",
    "$$ Q(w, w_0) = \\sum\\limits_{i=1}^{l} (1 - M_i(w, w_0))_{+} + \\frac{1}{2C} {\\|w\\|}^2 \\to \\min\\limits_{w, w_0} $$"
   ]
  },
  {
   "cell_type": "markdown",
   "metadata": {},
   "source": [
    "### Dual Form\n",
    "\n",
    "Before:\n",
    "## \\begin{cases}\n",
    "    \\sum f(x_i) \\to \\min\\limits_{x} \\\\\n",
    "    h(x_i) \\geq 0, i = 1, \\ldots, n\n",
    "\\end{cases}\n",
    "\n",
    "After:\n",
    "## \\begin{cases}\n",
    "    \\sum f(x_i) - \\lambda_i h(x_i) \\to \\min\\limits_{x} \\max\\limits_{\\lambda} \\\\\n",
    "    h(x_i) \\geq 0, i = 1, \\ldots, n \\\\\n",
    "    \\lambda_i \\geq 0, i = 1, \\ldots, n \\\\\n",
    "    \\lambda_i = 0 \\ or \\  h(x_i) = 0 \\ (\\sum \\lambda_i h(x_i) = 0)\n",
    "\\end{cases}\n",
    "\n",
    "Calculate derivatives over x and see corollary.\n",
    "\n",
    "\n",
    "## \\begin{cases}\n",
    "    -\\sum\\limits_{i=1}^{l} \\lambda_i + \\frac{1}{2} \\sum\\limits_{i=1}^{l} \\sum\\limits_{j=1}^{l} \\lambda_i \\lambda_j y_i y_j <x_i, x_j> \\to \\min\\limits_{\\lambda} \\\\\n",
    "    \\sum\\limits_{i=1}^{l} \\lambda_i y_i = 0 \\\\\n",
    "    0 \\leq \\lambda_i \\leq C, i = 1, \\ldots, l\n",
    "\\end{cases}"
   ]
  },
  {
   "cell_type": "markdown",
   "metadata": {},
   "source": [
    "### Decision Rule\n",
    "\n",
    "### $$ a(x) = sign \\left(\\sum\\limits_{i = 1}^{l} \\lambda_i y_i <x_i, x> - w_0 \\right) $$\n",
    "## $$ w_0 = med \\{ <w, x_i> - y_i \\ |\\  \\lambda_i > 0 \\} $$\n"
   ]
  },
  {
   "cell_type": "code",
   "execution_count": null,
   "metadata": {},
   "outputs": [],
   "source": []
  },
  {
   "cell_type": "markdown",
   "metadata": {},
   "source": [
    "--------\n",
    "# Non-Linear SVM (Kernel Trick)\n",
    "\n",
    "** Вопросы **\n",
    "  * Как с помощью SVM разделить нелинейную выборку?\n",
    "  * Что такое ядро?\n",
    "  * Примеры ядер?\n",
    "  * Как строить ядра?\n",
    "  * Применение ядер для классификации нелинейных выборок\n",
    "\n",
    "Kernel fuction \n",
    "## $$ K : X \\times X \\to R $$ \n",
    "if $ K(x, x') = <\\phi(x), \\phi(x')> $, where $ \\phi : X \\to H $ and H is space with inner product"
   ]
  },
  {
   "cell_type": "markdown",
   "metadata": {},
   "source": [
    "### Kernel_Machine\n",
    "<img src=\"http://upload.wikimedia.org/wikipedia/commons/1/1b/Kernel_Machine.png\" width=\"80%\">"
   ]
  },
  {
   "cell_type": "markdown",
   "metadata": {},
   "source": [
    "** Kernel trick **\n",
    "## \\begin{cases}\n",
    "    -\\sum\\limits_{i=1}^{l} \\lambda_i + \\frac{1}{2} \\sum\\limits_{i=1}^{l} \\sum\\limits_{j=1}^{l} \\lambda_i \\lambda_j y_i y_j \\color{red}{K(x_i, x_j)} \\to \\min\\limits_{\\lambda} \\\\\n",
    "    \\sum\\limits_{i=1}^{l} \\lambda_i y_i = 0 \\\\\n",
    "    0 \\leq \\lambda_i \\leq C, i = 1, \\ldots, l\n",
    "\\end{cases}\n",
    "\n",
    "### $$ a(x) = sign \\left(\\sum\\limits_{i = 1}^{l} \\lambda_i y_i \\color{red}{K(x_i, x)} - w_0 \\right) $$\n",
    "## $$ w_0 = med \\{ \\color{red}{K(w, x_i)}<w, x_i> - y_i \\ |\\  \\lambda_i > 0 \\} $$"
   ]
  },
  {
   "cell_type": "markdown",
   "metadata": {},
   "source": [
    "### Kernel and Building kernels\n",
    "<img src='https://raw.githubusercontent.com/shevkunov/ml-mipt-part1/master/2017/seminars/08-linear_models/496/pic/Kernel.PNG' align=\"left\" width=\"70%\">\n",
    "\n",
    "<!---                             .\n",
    "                            T\n",
    "                           ( )\n",
    "                          <===>\n",
    "                           F|J\n",
    "                           ===\n",
    "                          J|||F\n",
    "                          F|||J\n",
    "                         /\\/ \\/\\\n",
    "                         F+++++J\n",
    "                        J{}{|}{}F         .\n",
    "                     .  F{}{|}{}J         T\n",
    "          .          T J{}{}|{}{}F        ;;\n",
    "          T         /|\\F/\\/\\|/\\/\\J  .   ,;;;;.\n",
    "         /:\\      .'/|\\\\:=========F T ./;;;;;;\\\n",
    "       ./:/:/.   ///|||\\\\\\\"\"\"\"\"\"\"\" /x\\T\\;;;;;;/\n",
    "      //:/:/:/\\  \\\\\\\\|////..[ ]...xXXXx.|====|\n",
    "      \\:/:/:/:T7 :.:.:.:.:||[ ]|/xXXXXXx\\|||||\n",
    "      ::.:.:.:A. `;:;:;:;'=== ==\\XXXXXXX/=====.\n",
    "      `;\"\"::/xxx\\.|,|,|,| ( ) ( )| | | |.=..=.|\n",
    "       :. :`\\xxx/(_)(_)(_) _   _ | | | |'-''-'|\n",
    "       :T-'-.:\"\":|\"\"\"\"\"\"\"|/ \\ / \\|=====|======|\n",
    "       .A.\"\"\"||_|| ,. .. || | | |/\\/\\/\\/ | | ||\n",
    "   :;:////\\:::.'.| || || ||-| |-|/\\/\\/\\+|+| | |\n",
    "  ;:;;\\////::::,='======='=============/\\/\\=====.\n",
    " :;:::;\"\"\":::::;:|__..,__|============/||\\|\\====|\n",
    " :::::;|=:::;:;::|,;:::::          |========|   |\n",
    " ::l42::::::(}:::::;::::::_________|========|___|_\n",
    "--->"
   ]
  },
  {
   "cell_type": "markdown",
   "metadata": {},
   "source": [
    "### Example of Kernels\n",
    "<img src=\"https://raw.githubusercontent.com/shevkunov/ml-mipt-part1/master/2017/seminars/08-linear_models/496/pic/KernelExample.PNG\" align=\"left\" width=\"60%\">"
   ]
  },
  {
   "cell_type": "markdown",
   "metadata": {},
   "source": [
    "** Задача 1**:  Какое ядро приведёт к линеаризации следующего датасета?"
   ]
  },
  {
   "cell_type": "code",
   "execution_count": 2,
   "metadata": {},
   "outputs": [
    {
     "data": {
      "text/plain": [
       "[<matplotlib.lines.Line2D at 0x26bfc0b9860>]"
      ]
     },
     "execution_count": 2,
     "metadata": {},
     "output_type": "execute_result"
    },
    {
     "data": {
      "image/png": "[encoded data removed]",
      "text/plain": [
       "<matplotlib.figure.Figure at 0x26bfbc85518>"
      ]
     },
     "metadata": {},
     "output_type": "display_data"
    }
   ],
   "source": [
    "x = np.vstack((np.random.uniform(size=100).reshape((50,2)), np.random.uniform(size=100).reshape((50,2)) + 1)) \n",
    "plt.figure(figsize=(10, 6))\n",
    "plot(x[:,0], x[:,1], 'bo')\n",
    "y1 = np.random.uniform(size=100).reshape((50,2))\n",
    "y2 = np.random.uniform(size=100).reshape((50,2))\n",
    "y1[:,0] += 1\n",
    "y2[:,1] += 1\n",
    "plot(y2[:,0], y2[:,1], 'go')\n",
    "plot(y1[:,0], y1[:,1], 'go')"
   ]
  },
  {
   "cell_type": "markdown",
   "metadata": {},
   "source": [
    "** Задача 2**:   Какое ядро приведёт к линеаризации следующего датасета?"
   ]
  },
  {
   "cell_type": "code",
   "execution_count": 3,
   "metadata": {},
   "outputs": [
    {
     "data": {
      "text/plain": [
       "[<matplotlib.lines.Line2D at 0x26bfbe65518>]"
      ]
     },
     "execution_count": 3,
     "metadata": {},
     "output_type": "execute_result"
    },
    {
     "data": {
      "image/png": "[encoded data removed]",
      "text/plain": [
       "<matplotlib.figure.Figure at 0x26bfbc58fd0>"
      ]
     },
     "metadata": {},
     "output_type": "display_data"
    }
   ],
   "source": [
    "x = np.random.randn(100, 2)\n",
    "r = np.abs(np.random.randn(100)) + 4\n",
    "fi = np.random.uniform(0.0, 2 * np.pi, size = 100)\n",
    "y = np.vstack((r * np.cos(fi), r * np.sin(fi))).T\n",
    "plt.figure(figsize=(10, 6))\n",
    "plot(x[:,0], x[:,1], 'bo')\n",
    "plot(y[:,0], y[:,1], 'go')"
   ]
  },
  {
   "cell_type": "markdown",
   "metadata": {},
   "source": [
    "### Example of RBF kernel\n",
    "<a href='http://cs.stanford.edu/people/karpathy/svmjs/demo/'>Demo SVM</a>"
   ]
  },
  {
   "cell_type": "markdown",
   "metadata": {},
   "source": [
    "------\n",
    "# Multiclass SVM\n",
    "## $$ Y = \\{1,..., K\\}$$\n",
    "Более детально см 3.2.2 <a href=\"http://www.machinelearning.ru/wiki/images/8/8e/Sem6_linear_2014.pdf\"> здесь <a>\n",
    "\n",
    "** Вопросы **\n",
    "    * Как построить SVM для мультиклассовой задачи классификации?\n",
    "    * Какие недостатки у подходов One-to-One и One-to-All?\n",
    "    * В чём идея мультиклассового SVM?"
   ]
  },
  {
   "cell_type": "markdown",
   "metadata": {},
   "source": [
    "## Решающее правило\n",
    "<img src=\"https://raw.githubusercontent.com/shevkunov/ml-mipt-part1/master/2017/seminars/08-linear_models/496/pic/imagemap.jpg\" width=\"80%\">"
   ]
  },
  {
   "cell_type": "markdown",
   "metadata": {},
   "source": [
    "### Интерпретация\n",
    "<img src=\"https://raw.githubusercontent.com/shevkunov/ml-mipt-part1/master/2017/seminars/08-linear_models/496/pic/pixelspace.jpeg\" width=\"80%\">"
   ]
  },
  {
   "cell_type": "markdown",
   "metadata": {},
   "source": [
    "<h1 align=\"center\"> SVM Realization </h1>"
   ]
  },
  {
   "cell_type": "markdown",
   "metadata": {},
   "source": [
    "#  SVM в Sklearn"
   ]
  },
  {
   "cell_type": "code",
   "execution_count": 2,
   "metadata": {},
   "outputs": [
    {
     "data": {
      "text/plain": [
       "['alt.atheism',\n",
       " 'comp.graphics',\n",
       " 'comp.os.ms-windows.misc',\n",
       " 'comp.sys.ibm.pc.hardware',\n",
       " 'comp.sys.mac.hardware',\n",
       " 'comp.windows.x',\n",
       " 'misc.forsale',\n",
       " 'rec.autos',\n",
       " 'rec.motorcycles',\n",
       " 'rec.sport.baseball',\n",
       " 'rec.sport.hockey',\n",
       " 'sci.crypt',\n",
       " 'sci.electronics',\n",
       " 'sci.med',\n",
       " 'sci.space',\n",
       " 'soc.religion.christian',\n",
       " 'talk.politics.guns',\n",
       " 'talk.politics.mideast',\n",
       " 'talk.politics.misc',\n",
       " 'talk.religion.misc']"
      ]
     },
     "execution_count": 2,
     "metadata": {},
     "output_type": "execute_result"
    }
   ],
   "source": [
    "all_categories = fetch_20newsgroups().target_names\n",
    "all_categories"
   ]
  },
  {
   "cell_type": "code",
   "execution_count": 3,
   "metadata": {},
   "outputs": [],
   "source": [
    "categories = [\n",
    "    'sci.electronics',\n",
    "    'sci.space',\n",
    "    'sci.med'\n",
    "]\n",
    "train_data = fetch_20newsgroups(subset='train', categories=categories, remove=('headers', 'footers', 'quotes'))\n",
    "test_data = fetch_20newsgroups(subset='test', categories=categories, remove=('headers', 'footers', 'quotes'))"
   ]
  },
  {
   "cell_type": "code",
   "execution_count": 4,
   "metadata": {},
   "outputs": [],
   "source": [
    "from sklearn.feature_extraction.text import CountVectorizer"
   ]
  },
  {
   "cell_type": "code",
   "execution_count": 5,
   "metadata": {},
   "outputs": [],
   "source": [
    "count_vectorizer = CountVectorizer(min_df=5, ngram_range=(1, 2)) "
   ]
  },
  {
   "cell_type": "code",
   "execution_count": 9,
   "metadata": {},
   "outputs": [],
   "source": [
    "from sklearn.svm import SVC, LinearSVC\n",
    "from sklearn.linear_model import LogisticRegression\n",
    "from sklearn.metrics import accuracy_score\n",
    "from sklearn.model_selection import cross_val_score"
   ]
  },
  {
   "cell_type": "code",
   "execution_count": 10,
   "metadata": {},
   "outputs": [],
   "source": [
    "from sklearn.pipeline import Pipeline"
   ]
  },
  {
   "cell_type": "code",
   "execution_count": 11,
   "metadata": {},
   "outputs": [],
   "source": [
    "pipeline = Pipeline([(\"vectorizer\", CountVectorizer(min_df=5, ngram_range=(1, 2))), (\"algo\", SVC())])"
   ]
  },
  {
   "cell_type": "code",
   "execution_count": 12,
   "metadata": {},
   "outputs": [
    {
     "data": {
      "text/plain": [
       "Pipeline(memory=None,\n",
       "     steps=[('vectorizer', CountVectorizer(analyzer='word', binary=False, decode_error='strict',\n",
       "        dtype=<class 'numpy.int64'>, encoding='utf-8', input='content',\n",
       "        lowercase=True, max_df=1.0, max_features=None, min_df=5,\n",
       "        ngram_range=(1, 2), preprocessor=None, stop_words=None,\n",
       "       ...,\n",
       "  max_iter=-1, probability=False, random_state=None, shrinking=True,\n",
       "  tol=0.001, verbose=False))])"
      ]
     },
     "execution_count": 12,
     "metadata": {},
     "output_type": "execute_result"
    }
   ],
   "source": [
    "pipeline.fit(train_data.data, train_data.target)"
   ]
  },
  {
   "cell_type": "code",
   "execution_count": 13,
   "metadata": {},
   "outputs": [
    {
     "data": {
      "text/plain": [
       "0.4175824175824176"
      ]
     },
     "execution_count": 13,
     "metadata": {},
     "output_type": "execute_result"
    }
   ],
   "source": [
    "accuracy_score(pipeline.predict(test_data.data), test_data.target)"
   ]
  },
  {
   "cell_type": "markdown",
   "metadata": {},
   "source": [
    "** Задание **\n",
    "\n",
    "1. Сравнить SVC с LinearSVC\n",
    "2. Разобраться, какое ядро использует SVC по умолчанию\n",
    "3. Объяснить, почему SVC работает настолько хуже в этом примере"
   ]
  },
  {
   "cell_type": "code",
   "execution_count": null,
   "metadata": {},
   "outputs": [],
   "source": []
  },
  {
   "cell_type": "markdown",
   "metadata": {},
   "source": [
    "# Реализация simple SVM\n",
    "см. my_svm.ipynb"
   ]
  },
  {
   "cell_type": "markdown",
   "metadata": {},
   "source": [
    "# The true SVM"
   ]
  },
  {
   "cell_type": "code",
   "execution_count": 3,
   "metadata": {},
   "outputs": [],
   "source": [
    "!pip install cvxopt  # Convex optimization package"
   ]
  },
  {
   "cell_type": "code",
   "execution_count": 5,
   "metadata": {
    "collapsed": true
   },
   "outputs": [],
   "source": [
    "from collections import Counter\n",
    "from itertools import product #, izip\n",
    "\n",
    "from sklearn.model_selection import train_test_split\n",
    "from sklearn import datasets\n",
    "from sklearn.svm import SVC, LinearSVC\n",
    "\n",
    "# import time\n",
    "from cvxopt import matrix, solvers"
   ]
  },
  {
   "cell_type": "code",
   "execution_count": 6,
   "metadata": {},
   "outputs": [
    {
     "name": "stdout",
     "output_type": "stream",
     "text": [
      "len(X) = 10000, len(y) = 10000\n",
      "len(X_train) =  8000\n"
     ]
    }
   ],
   "source": [
    "X, y = datasets.make_classification(n_samples=10000, n_features=20, n_classes=2, n_informative=20, n_redundant=0,\n",
    "                                    random_state=42)\n",
    "\n",
    "X_train, X_test, Y_train, Y_test = train_test_split(X, y, test_size=0.2,\n",
    "                                                    random_state=42)\n",
    "\n",
    "print(\"len(X) = {}, len(y) = {}\".format(len(X), len(y)))\n",
    "print(\"len(X_train) = \", len(X_train))"
   ]
  },
  {
   "cell_type": "code",
   "execution_count": 7,
   "metadata": {},
   "outputs": [
    {
     "data": {
      "text/plain": [
       "(8000,)"
      ]
     },
     "execution_count": 7,
     "metadata": {},
     "output_type": "execute_result"
    }
   ],
   "source": [
    "Y_train.shape"
   ]
  },
  {
   "cell_type": "markdown",
   "metadata": {},
   "source": [
    "### QP-solver (cvxopt)\n",
    "\n",
    "* [Библиотека CVXOPT](http://cvxopt.org/)\n",
    "* [Документация библиотеки](http://cvxopt.org/documentation/index.html)\n",
    "* [Разреженные и плотные матрицы](http://abel.ee.ucla.edu/cvxopt/userguide/matrices.html)"
   ]
  },
  {
   "cell_type": "code",
   "execution_count": 8,
   "metadata": {
    "collapsed": true
   },
   "outputs": [],
   "source": [
    "def smo_svm(X, Y, C = 1.0, kernl = lambda a, b : np.dot(a.T, b), max_passes = 100, tol = 1e-12):\n",
    "    lambd = np.zeros(len(X))\n",
    "    b = 0.0\n",
    "    \n",
    "    passes = 0\n",
    "    iters = 0\n",
    "    while passes < max_passes:\n",
    "        \n",
    "        if iters > 10000:\n",
    "            print(\"10000 iters!!!\")\n",
    "            break\n",
    "            \n",
    "        num_changed_lambds = 0\n",
    "        \n",
    "        # for objects in Learning Sample\n",
    "        for i in range(len(X) - 1):\n",
    "\n",
    "            Ei = svm_func(X[i,:], X, Y, lambd, b) - Y[i]\n",
    "            \n",
    "            if Y[i] * Ei < -tol and lambd[i] < C or Y[i] * Ei > tol and lambd[i] > 0.0:\n",
    "                j = np.random.randint(i + 1, len(X))\n",
    "                \n",
    "                # print(\"optimizing %d %d\" % (i, j))\n",
    "                \n",
    "                Ej = svm_func(X[j,:], X, Y, lambd, b) - Y[j]\n",
    "                lambd_i_old = lambd[i]\n",
    "                lambd_j_old = lambd[j]\n",
    "                if (Y[i] != Y[j]):\n",
    "                    L = max(0,lambd[j] - lambd[i])\n",
    "                    H = min(C, C + lambd[j] - lambd[i])\n",
    "                else:\n",
    "                    L = max(0,lambd[i] + lambd[j] - C)\n",
    "                    H = min(C,lambd[i] + lambd[j])\n",
    "                    \n",
    "                if (L == H):\n",
    "                    continue\n",
    "                    \n",
    "                nu = 2 * kernl(X[i,:], X[j,:]) - kernl(X[i,:], X[i,:]) - kernl(X[j,:], X[j,:])\n",
    "                \n",
    "                if nu >= 0.0:\n",
    "                    continue\n",
    "                \n",
    "                lambd[j] = lambd[j] - (Y[j] * (Ei - Ej)) / (nu)\n",
    "                \n",
    "                if lambd[j] > H:\n",
    "                    lambd[j] = H\n",
    "                \n",
    "                if lambd[j] < L:\n",
    "                    lambd[j] = L\n",
    "                    \n",
    "                if abs(lambd[j] - lambd_j_old) < 1e-7:\n",
    "                    continue\n",
    "                    \n",
    "                lambd[i] = lambd[i] + Y[i] * Y[j] * (lambd_j_old - lambd[j])\n",
    "                \n",
    "                b1 = b - Ei - Y[i] * (lambd[i] - lambd_i_old) * kernl(X[i,:], X[i,:])\\\n",
    "                    - Y[j] * (lambd[j] - lambd_j_old) * kernl(X[i,:], X[j,:])\n",
    "\n",
    "                b2 = b - Ej - Y[i] * (lambd[i] - lambd_i_old) * kernl(X[i,:], X[i,:])\\\n",
    "                    - Y[j] * (lambd[j] - lambd_j_old) * kernl(X[j,:], X[j,:])\n",
    "                    \n",
    "                if 0.0 < lambd[i] and lambd[i] < C:\n",
    "                    b = b1\n",
    "                elif 0.0 < lambd[j] and lambd[j] < C:\n",
    "                    b = b2\n",
    "                else:\n",
    "                    b = (b1 + b2) / 2\n",
    "                    \n",
    "                num_changed_lambds = num_changed_lambds + 1\n",
    "            \n",
    "            iters += 1\n",
    "            if iters % 10 == 0:\n",
    "                print(\"%d iters done\" % iters)\n",
    "            if num_changed_lambds == 0:\n",
    "                passes += 1\n",
    "            else:\n",
    "                passes = 0\n",
    "            \n",
    "\n",
    "    return lambd, b"
   ]
  },
  {
   "cell_type": "code",
   "execution_count": 9,
   "metadata": {
    "collapsed": true
   },
   "outputs": [],
   "source": [
    "def svm_func(x, X, Y, lambd, b, ind = None, kernl = lambda a, b : np.dot(a.T, b)):\n",
    "    if ind is None:\n",
    "        ind = range(len(X));\n",
    "    res = 0.0\n",
    "    for i in range(len(lambd)):\n",
    "        res += lambd[i] * Y[ind[i]] * kernl(X[ind[i],:], x)\n",
    "    return res + b"
   ]
  },
  {
   "cell_type": "code",
   "execution_count": 10,
   "metadata": {
    "collapsed": true
   },
   "outputs": [],
   "source": [
    "# The real_SVM\n",
    "def the_svm(X, Y, C = 1.0, kernl = lambda a , b : np.dot(a.T, b)):\n",
    "\n",
    "    n_samples, n_features = X.shape\n",
    "\n",
    "    M = np.zeros((n_samples, n_samples))\n",
    "\n",
    "    for i in range(len(X)):\n",
    "        for j in range(len(X)):\n",
    "            M[i, j] = kernl(X[i,:], X[j,:]) * Y[i] * Y[j]\n",
    "    \n",
    "    P = cvxopt.matrix(M)\n",
    "    q = cvxopt.matrix(np.ones(n_samples) * -1)\n",
    "    A = cvxopt.matrix(Y, (1,n_samples))\n",
    "    b = cvxopt.matrix(0.0)\n",
    "\n",
    "    tmp1 = np.diag(np.ones(n_samples) * -1)\n",
    "    tmp2 = np.identity(n_samples)\n",
    "    G = cvxopt.matrix(np.vstack((tmp1, tmp2)))\n",
    "    tmp1 = np.zeros(n_samples)\n",
    "    tmp2 = np.ones(n_samples) * C\n",
    "    h = cvxopt.matrix(np.hstack((tmp1, tmp2)))\n",
    "\n",
    "    solution = cvxopt.solvers.qp(P, q, G, h, A, b)\n",
    "    lambd = np.ravel(solution['x'])\n",
    "\n",
    "    sv = lambd > 1e-5\n",
    "    ind = np.arange(len(lambd))[sv]\n",
    "    lambd = lambd[sv]\n",
    "    svec = X[sv]\n",
    "    svec_y = Y[sv]\n",
    "\n",
    "    b = 0.0\n",
    "    for n in range(len(lambd)):\n",
    "        b += sv_y[n]\n",
    "        b -= np.sum(lambd * sv_y * K[ind[n],sv])\n",
    "    b /= len(lambd)\n",
    "    \n",
    "    return lambd, b, sv, sv_y, ind"
   ]
  },
  {
   "cell_type": "code",
   "execution_count": 11,
   "metadata": {
    "collapsed": true
   },
   "outputs": [],
   "source": [
    "x = np.array([[0.0, 0.0], [1.0, 0.0], [0.0, 1.0], [1.0, 1.4]])\n",
    "y = np.array([1.0, -1.0, 1.0, -1.0])"
   ]
  },
  {
   "cell_type": "code",
   "execution_count": 12,
   "metadata": {
    "scrolled": false
   },
   "outputs": [
    {
     "name": "stdout",
     "output_type": "stream",
     "text": [
      "10 iters done\n",
      "20 iters done\n",
      "30 iters done\n",
      "40 iters done\n",
      "50 iters done\n",
      "60 iters done\n",
      "70 iters done\n",
      "80 iters done\n",
      "90 iters done\n",
      "100 iters done\n",
      "110 iters done\n",
      "120 iters done\n",
      "130 iters done\n",
      "140 iters done\n",
      "150 iters done\n"
     ]
    },
    {
     "data": {
      "text/plain": [
       "(array([0.29588265, 0.78277329, 1.70411739, 1.21722671]), 1.0)"
      ]
     },
     "execution_count": 12,
     "metadata": {},
     "output_type": "execute_result"
    }
   ],
   "source": [
    "lambd, b = smo_svm(x, y, C=100.0)\n",
    "lambd, b"
   ]
  },
  {
   "cell_type": "code",
   "execution_count": 13,
   "metadata": {},
   "outputs": [
    {
     "name": "stdout",
     "output_type": "stream",
     "text": [
      "[0. 0.] 1.0\n",
      "[1. 0.] -1.0\n",
      "[0. 1.] 1.0\n",
      "[1.  1.4] -1.0\n"
     ]
    },
    {
     "data": {
      "image/png": "[encoded data removed]",
      "text/plain": [
       "<matplotlib.figure.Figure at 0x7f17822387f0>"
      ]
     },
     "metadata": {},
     "output_type": "display_data"
    }
   ],
   "source": [
    "n = 10\n",
    "xx = np.linspace(-2, 2, n)\n",
    "yy = np.linspace(-2, 2, n)\n",
    "XX, YY = np.meshgrid(xx, yy)\n",
    "\n",
    "F = np.zeros_like(XX)\n",
    "for i in range(len(xx)):\n",
    "    for j in range(len(xx)):\n",
    "        F[j, i] = svm_func(np.array([xx[i], yy[j]]), x, y, lambd, b)\n",
    "plt.figure(figsize=(14, 7))\n",
    "contourf(xx, yy, F, 8, alpha=.75, cmap=cm.hot)\n",
    "clabel(contour(xx, yy, F, 8, colors='black'), inline=1, fontsize=10)\n",
    "for i in range(len(x)):\n",
    "    if y[i] == 1.0:\n",
    "        plot(x[i,0], x[i,1], 'bo')\n",
    "        print(x[i,:], y[i])\n",
    "    else:\n",
    "        plot(x[i, 0], x[i,1], 'go')\n",
    "        print(x[i,:], y[i])"
   ]
  },
  {
   "cell_type": "code",
   "execution_count": 14,
   "metadata": {
    "collapsed": true
   },
   "outputs": [],
   "source": [
    "x = np.random.randn(20,2)\n",
    "x[10:,0] += 3\n",
    "y = np.hstack((np.ones(10), np.ones(10) * -1))"
   ]
  },
  {
   "cell_type": "code",
   "execution_count": 15,
   "metadata": {
    "scrolled": true
   },
   "outputs": [
    {
     "name": "stdout",
     "output_type": "stream",
     "text": [
      "10 iters done\n",
      "20 iters done\n",
      "30 iters done\n",
      "40 iters done\n",
      "50 iters done\n",
      "60 iters done\n",
      "70 iters done\n",
      "80 iters done\n",
      "90 iters done\n",
      "100 iters done\n",
      "110 iters done\n",
      "120 iters done\n",
      "130 iters done\n",
      "140 iters done\n",
      "150 iters done\n",
      "160 iters done\n",
      "170 iters done\n",
      "180 iters done\n",
      "190 iters done\n",
      "200 iters done\n",
      "210 iters done\n",
      "220 iters done\n",
      "230 iters done\n",
      "240 iters done\n",
      "250 iters done\n",
      "260 iters done\n",
      "270 iters done\n",
      "280 iters done\n",
      "290 iters done\n",
      "300 iters done\n",
      "310 iters done\n",
      "320 iters done\n",
      "330 iters done\n",
      "340 iters done\n",
      "350 iters done\n",
      "360 iters done\n",
      "370 iters done\n",
      "380 iters done\n",
      "390 iters done\n",
      "400 iters done\n",
      "410 iters done\n"
     ]
    },
    {
     "data": {
      "text/plain": [
       "(array([ 0.00000000e+00,  0.00000000e+00, -1.38777878e-17,  2.64223129e-01,\n",
       "         0.00000000e+00,  0.00000000e+00,  5.84666925e+00,  0.00000000e+00,\n",
       "         0.00000000e+00,  0.00000000e+00,  0.00000000e+00,  0.00000000e+00,\n",
       "         0.00000000e+00,  0.00000000e+00,  0.00000000e+00,  1.24699303e+00,\n",
       "         0.00000000e+00,  0.00000000e+00,  4.86389934e+00,  0.00000000e+00]),\n",
       " 5.430591994773475)"
      ]
     },
     "execution_count": 15,
     "metadata": {},
     "output_type": "execute_result"
    }
   ],
   "source": [
    "lambd, b = smo_svm(x, y, C=10.0)\n",
    "lambd, b"
   ]
  },
  {
   "cell_type": "code",
   "execution_count": 16,
   "metadata": {},
   "outputs": [
    {
     "data": {
      "image/png": "[encoded data removed]",
      "text/plain": [
       "<matplotlib.figure.Figure at 0x7f178223f860>"
      ]
     },
     "metadata": {},
     "output_type": "display_data"
    }
   ],
   "source": [
    "n = 10\n",
    "xx = np.linspace(np.min(x[:,0])-0.3, np.max(x[:,0]) + 0.3, n)\n",
    "yy = np.linspace(np.min(x[:,1])-0.3, np.max(x[:,1]) + 0.3, n)\n",
    "XX, YY = np.meshgrid(xx, yy)\n",
    "\n",
    "F = np.zeros_like(XX)\n",
    "for i in range(len(xx)):\n",
    "    for j in range(len(xx)):\n",
    "        F[j,i] = svm_func(np.array([xx[i], yy[j]]), x, y, lambd, b)\n",
    "\n",
    "plt.figure(figsize=(14, 7))\n",
    "contourf(xx, yy, F, 8, alpha=.75, cmap=cm.hot)\n",
    "clabel(contour(xx, yy, F, 8, colors='black'), inline=1, fontsize=10)\n",
    "for i in range(len(x)):\n",
    "    if y[i] == 1.0:\n",
    "        plot(x[i,0], x[i,1], 'bo')\n",
    "    else:\n",
    "        plot(x[i, 0], x[i,1], 'go')"
   ]
  },
  {
   "cell_type": "code",
   "execution_count": 17,
   "metadata": {
    "collapsed": true
   },
   "outputs": [],
   "source": [
    "x = np.random.randn(20,2)\n",
    "x[10:,0] += 2\n",
    "x[10:,:] *= 1\n",
    "y = np.hstack((np.ones(10), np.ones(10) * -1))"
   ]
  },
  {
   "cell_type": "code",
   "execution_count": 18,
   "metadata": {
    "collapsed": true
   },
   "outputs": [],
   "source": [
    "def polynomial_kernel(x, y, p=2):\n",
    "    return (1 + np.dot(x, y)) ** p\n",
    "\n",
    "def gaussian_kernel(x, y, gamma=0.1):\n",
    "    return (np.exp(-gamma*np.dot(x-y, x-y)))"
   ]
  },
  {
   "cell_type": "code",
   "execution_count": 19,
   "metadata": {},
   "outputs": [
    {
     "name": "stdout",
     "output_type": "stream",
     "text": [
      "10 iters done\n",
      "20 iters done\n",
      "30 iters done\n",
      "40 iters done\n",
      "50 iters done\n",
      "60 iters done\n",
      "70 iters done\n",
      "80 iters done\n",
      "90 iters done\n",
      "100 iters done\n",
      "110 iters done\n",
      "120 iters done\n",
      "130 iters done\n",
      "140 iters done\n",
      "150 iters done\n",
      "160 iters done\n",
      "170 iters done\n",
      "180 iters done\n",
      "190 iters done\n",
      "200 iters done\n",
      "210 iters done\n",
      "220 iters done\n",
      "230 iters done\n",
      "240 iters done\n",
      "250 iters done\n",
      "260 iters done\n",
      "270 iters done\n",
      "280 iters done\n",
      "290 iters done\n",
      "300 iters done\n",
      "310 iters done\n",
      "320 iters done\n",
      "330 iters done\n",
      "340 iters done\n",
      "350 iters done\n",
      "360 iters done\n",
      "370 iters done\n",
      "380 iters done\n",
      "390 iters done\n",
      "400 iters done\n",
      "410 iters done\n",
      "420 iters done\n",
      "430 iters done\n",
      "440 iters done\n",
      "450 iters done\n",
      "460 iters done\n",
      "470 iters done\n",
      "480 iters done\n",
      "490 iters done\n",
      "500 iters done\n",
      "510 iters done\n",
      "520 iters done\n",
      "530 iters done\n",
      "540 iters done\n",
      "550 iters done\n",
      "560 iters done\n",
      "570 iters done\n",
      "580 iters done\n",
      "590 iters done\n",
      "600 iters done\n",
      "610 iters done\n",
      "620 iters done\n",
      "630 iters done\n",
      "640 iters done\n",
      "650 iters done\n",
      "660 iters done\n",
      "670 iters done\n",
      "680 iters done\n",
      "690 iters done\n",
      "700 iters done\n",
      "710 iters done\n",
      "720 iters done\n",
      "730 iters done\n",
      "740 iters done\n",
      "750 iters done\n",
      "760 iters done\n",
      "770 iters done\n",
      "780 iters done\n",
      "790 iters done\n",
      "800 iters done\n",
      "810 iters done\n",
      "820 iters done\n",
      "830 iters done\n",
      "840 iters done\n",
      "850 iters done\n",
      "860 iters done\n",
      "870 iters done\n",
      "880 iters done\n",
      "890 iters done\n",
      "900 iters done\n",
      "910 iters done\n",
      "920 iters done\n",
      "930 iters done\n",
      "940 iters done\n",
      "950 iters done\n",
      "960 iters done\n",
      "970 iters done\n",
      "980 iters done\n",
      "990 iters done\n",
      "1000 iters done\n",
      "1010 iters done\n",
      "1020 iters done\n",
      "1030 iters done\n",
      "1040 iters done\n",
      "1050 iters done\n",
      "1060 iters done\n",
      "1070 iters done\n",
      "1080 iters done\n",
      "1090 iters done\n",
      "1100 iters done\n",
      "1110 iters done\n",
      "1120 iters done\n",
      "1130 iters done\n",
      "1140 iters done\n",
      "1150 iters done\n",
      "1160 iters done\n",
      "1170 iters done\n",
      "1180 iters done\n",
      "1190 iters done\n",
      "1200 iters done\n",
      "1210 iters done\n",
      "1220 iters done\n",
      "1230 iters done\n",
      "1240 iters done\n",
      "1250 iters done\n",
      "1260 iters done\n",
      "1270 iters done\n",
      "1280 iters done\n",
      "1290 iters done\n",
      "1300 iters done\n",
      "1310 iters done\n",
      "1320 iters done\n",
      "1330 iters done\n",
      "1340 iters done\n",
      "1350 iters done\n",
      "1360 iters done\n",
      "1370 iters done\n",
      "1380 iters done\n",
      "1390 iters done\n",
      "1400 iters done\n",
      "1410 iters done\n",
      "1420 iters done\n",
      "1430 iters done\n",
      "1440 iters done\n",
      "1450 iters done\n",
      "1460 iters done\n",
      "1470 iters done\n",
      "1480 iters done\n",
      "1490 iters done\n",
      "1500 iters done\n",
      "1510 iters done\n",
      "1520 iters done\n",
      "1530 iters done\n",
      "1540 iters done\n",
      "1550 iters done\n",
      "1560 iters done\n",
      "1570 iters done\n",
      "1580 iters done\n",
      "1590 iters done\n",
      "1600 iters done\n",
      "1610 iters done\n",
      "1620 iters done\n",
      "1630 iters done\n",
      "1640 iters done\n",
      "1650 iters done\n",
      "1660 iters done\n",
      "1670 iters done\n",
      "1680 iters done\n",
      "1690 iters done\n"
     ]
    },
    {
     "data": {
      "text/plain": [
       "(array([1.00000000e+01, 2.49800181e-16, 0.00000000e+00, 8.62379338e+00,\n",
       "        0.00000000e+00, 0.00000000e+00, 0.00000000e+00, 0.00000000e+00,\n",
       "        0.00000000e+00, 1.00000000e+01, 0.00000000e+00, 6.46810011e+00,\n",
       "        1.00000000e+01, 0.00000000e+00, 0.00000000e+00, 0.00000000e+00,\n",
       "        0.00000000e+00, 0.00000000e+00, 1.00000000e+01, 2.15569327e+00]),\n",
       " 2.895924148545535)"
      ]
     },
     "execution_count": 19,
     "metadata": {},
     "output_type": "execute_result"
    }
   ],
   "source": [
    "# Learn Kernel SVM\n",
    "lambd, b = smo_svm(x, y, C=10.0, kernl=polynomial_kernel)\n",
    "lambd, b"
   ]
  },
  {
   "cell_type": "code",
   "execution_count": 20,
   "metadata": {},
   "outputs": [
    {
     "data": {
      "image/png": "[encoded data removed]",
      "text/plain": [
       "<matplotlib.figure.Figure at 0x7f1781d557b8>"
      ]
     },
     "metadata": {},
     "output_type": "display_data"
    }
   ],
   "source": [
    "# Draw polynomial Kernel\n",
    "n = 10\n",
    "xx = np.linspace(np.min(x[:,0])-0.3, np.max(x[:,0]) + 0.3, n)\n",
    "yy = np.linspace(np.min(x[:,1])-0.3, np.max(x[:,1]) + 0.3, n)\n",
    "XX, YY = np.meshgrid(xx, yy)\n",
    "\n",
    "F = np.zeros_like(XX)\n",
    "for i in range(len(xx)):\n",
    "    for j in range(len(xx)):\n",
    "        F[j,i] = svm_func(np.array([xx[i], yy[j]]), x, y, lambd, b, kernl=gaussian_kernel)\n",
    "\n",
    "plt.figure(figsize=(14, 7))\n",
    "contourf(xx, yy, F, 8, alpha=.75, cmap=cm.hot)\n",
    "clabel(contour(xx, yy, F, 8, colors='black'), inline=1, fontsize=10)\n",
    "for i in range(len(x)):\n",
    "    if y[i] == 1.0:\n",
    "        plot(x[i,0], x[i,1], 'bo')\n",
    "        #print x[i,:], y[i]\n",
    "    else:\n",
    "        plot(x[i, 0], x[i,1], 'go')\n",
    "        #print x[i,:], y[i]"
   ]
  },
  {
   "cell_type": "markdown",
   "metadata": {},
   "source": [
    "<h1 align=\"center\"> Additional </h1>"
   ]
  },
  {
   "cell_type": "markdown",
   "metadata": {
    "collapsed": true
   },
   "source": [
    "## Разбор прикладной задачи: оптимизация бюджета рекламной кампании\n",
    "<img src=\"https://zhazhda.biz/wp-content/uploads/2017/03/bolshaya-1.png\" width=40%>\n",
    "\n",
    "К вам обращается крупное рекламное агентство. Они хотят пускать рекламную кампанию по телевизору, однако, не понимают сколько рекламы на каждом телевизионном канале (всего телеканалов $n$) нужно заказать.\n",
    "\n",
    "* ** Бизнес-ограничения **\n",
    "    1. У каждой рекламной кампании есть своя целевая аудитория, и успешность мероприятия определяется по показателям в срезе ЦА.\n",
    "    2. Для каждого среза считается величина «охват k+» - сколько человек посмотрело рекламный ролик k и более раз и «точность» сколько людей, просмотревших ролик из данного среза.\n",
    "    3. Упрощение задачи: считаем, что на телеканале не покупается фиксированная реклама (когда мы точно знаем когда будет ролик показан), а только плавающие размещения (ролик будет показан в случайный момент суток)\n",
    "    4. Нужно оптимизировать суммарный бюджет кампании, получив определённые значения охвата 5+ и точности ЦА.\n",
    "    \n",
    "* ** Как измерить результат **\n",
    "    1. Проверять экономию бессмысленно (так как мы, в любом случае, тратим меньше). Надо проверять охват и точность.\n",
    "    2. АБ тест нельзя просто так сделать, кампания это очень долгий процесс (2-3 месяца)\n",
    "    3. Можно требовать, чтобы с вероятностью 95% охват и точность были не ниже, чем те, что мы предсказали.\n",
    "    \n",
    "* **Вопросы:**\n",
    "    1. Как поставить задачу машинного обучения? Что есть целевая переменная?\n",
    "    2. Какие признаки следует добавить в обучающую выборку? Сколько их будет?\n",
    "    3. Какое взять решающее правило?\n",
    "    4. Если до сих пор было всего 20 кампаний, какое тогда решающее правило взять?"
   ]
  },
  {
   "cell_type": "markdown",
   "metadata": {},
   "source": [
    "# HW2: solution"
   ]
  },
  {
   "cell_type": "markdown",
   "metadata": {},
   "source": [
    "# HW5: explanation\n"
   ]
  },
  {
   "cell_type": "markdown",
   "metadata": {},
   "source": [
    "<h1 align=\"center\">Заключение</h1>  "
   ]
  },
  {
   "cell_type": "markdown",
   "metadata": {
    "collapsed": true
   },
   "source": [
    "** SVM **\n",
    "* Достоинства\n",
    "    - Сильная обощающая способность\n",
    "    - Выпуклая задача оптимизация (наличие решения)\n",
    "    - Не нужны все объекты обучающей выборки для обучения\n",
    "* Недостатки:\n",
    "    - Непонятно, как подбирать ядро\n",
    "\n",
    "\n",
    "\n",
    "** Обратная связь ** \n",
    "  * оцените <a href=\"https://goo.gl/forms/kYZuyAQLuwo8szce2\"> семинар </a>\n",
    "  * оставьте <a href=\"https://goo.gl/forms/zeZiu1fSgrpPGp6T2\"> отзыв </a> о лекции"
   ]
  }
 ],
 "metadata": {
  "anaconda-cloud": {},
  "kernelspec": {
   "display_name": "Python 3",
   "language": "python",
   "name": "python3"
  },
  "language_info": {
   "codemirror_mode": {
    "name": "ipython",
    "version": 3
   },
   "file_extension": ".py",
   "mimetype": "text/x-python",
   "name": "python",
   "nbconvert_exporter": "python",
   "pygments_lexer": "ipython3",
   "version": "3.5.5"
  }
 },
 "nbformat": 4,
 "nbformat_minor": 1
}
