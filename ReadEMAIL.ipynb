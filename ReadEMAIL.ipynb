{
 "cells": [
  {
   "cell_type": "code",
   "execution_count": 102,
   "metadata": {},
   "outputs": [],
   "source": [
    "import smtplib\n",
    "import time\n",
    "import imaplib\n",
    "import email\n",
    "import numpy as np\n",
    "\n",
    "# -------------------------------------------------\n",
    "#\n",
    "# Utility to read email from Gmail Using Python\n",
    "#\n",
    "# ------------------------------------------------\n",
    "\n",
    "ORG_EMAIL   = \"@gmail.com\"\n",
    "FROM_EMAIL  = \"ml.course.mipt\" + ORG_EMAIL\n",
    "FROM_PWD    = \"mymodeloverfit\"\n",
    "SMTP_SERVER = \"imap.gmail.com\"\n",
    "SMTP_PORT   = 993"
   ]
  },
  {
   "cell_type": "code",
   "execution_count": 115,
   "metadata": {},
   "outputs": [],
   "source": [
    "mail = imaplib.IMAP4_SSL(SMTP_SERVER)\n",
    "mail.login('ml.course.mipt@gmail.com',FROM_PWD)\n",
    "mail.select('inbox')\n",
    "\n",
    "type, data = mail.search(None, 'ALL')\n",
    "mail_ids = data[0]\n",
    "id_list = mail_ids.split()\n",
    "\n",
    "import pandas as pd\n",
    "df_email = pd.DataFrame(columns={'Subject', 'From', 'Date', 'Attachment_name'})"
   ]
  },
  {
   "cell_type": "code",
   "execution_count": 98,
   "metadata": {},
   "outputs": [
    {
     "data": {
      "text/html": [
       "<div>\n",
       "<style scoped>\n",
       "    .dataframe tbody tr th:only-of-type {\n",
       "        vertical-align: middle;\n",
       "    }\n",
       "\n",
       "    .dataframe tbody tr th {\n",
       "        vertical-align: top;\n",
       "    }\n",
       "\n",
       "    .dataframe thead th {\n",
       "        text-align: right;\n",
       "    }\n",
       "</style>\n",
       "<table border=\"1\" class=\"dataframe\">\n",
       "  <thead>\n",
       "    <tr style=\"text-align: right;\">\n",
       "      <th></th>\n",
       "      <th>Subject</th>\n",
       "      <th>Attachment_name</th>\n",
       "      <th>Date</th>\n",
       "      <th>From</th>\n",
       "    </tr>\n",
       "  </thead>\n",
       "  <tbody>\n",
       "    <tr>\n",
       "      <th>0</th>\n",
       "      <td>=?UTF-8?B?TUwyMDE3X0F1dF9mYWxsIDQ5NSBaaGFya292?=</td>\n",
       "      <td>[[None, =?UTF-8?B?emhhcmtvdl80OTVfdGFzazUuaXB5...</td>\n",
       "      <td>Sat, 04 Nov 2017 23:45:25 +0300</td>\n",
       "      <td>=?UTF-8?B?0JDQvdC00YDQtdC5INCW0LDRgNC60L7Qsg==...</td>\n",
       "    </tr>\n",
       "    <tr>\n",
       "      <th>1</th>\n",
       "      <td>=?utf-8?B?TUwyMDE3X0F1dF9mYWxsIDQ5OSDQotGA0YPQ...</td>\n",
       "      <td>[[None, trubakov_499_task5_1.ipynb, trubakov_4...</td>\n",
       "      <td>Sat, 04 Nov 2017 23:46:56 +0300</td>\n",
       "      <td>=?utf-8?B?0JDQvdGC0L7QvSDQotGA0YPQsdCw0LrQvtCy...</td>\n",
       "    </tr>\n",
       "    <tr>\n",
       "      <th>2</th>\n",
       "      <td>ML2017_Aut_fall 494 Nemilov</td>\n",
       "      <td>[[None, model_2017-11-04 12:53:21.480585.pkl, ...</td>\n",
       "      <td>Sat, 4 Nov 2017 23:49:25 +0300</td>\n",
       "      <td>=?UTF-8?B?0J3QtdC80LjQu9C+0LIsINCc0LjRhdCw0LjQ...</td>\n",
       "    </tr>\n",
       "    <tr>\n",
       "      <th>3</th>\n",
       "      <td>ML2016_fall 494 kargalstev</td>\n",
       "      <td>[[None, recap_approx_qlearning.ipynb, ai.gif]]</td>\n",
       "      <td>Sat, 4 Nov 2017 23:50:02 +0300</td>\n",
       "      <td>=?UTF-8?B?0KHRgtC10L/QsNC9INCa0LDRgNCz0LDQu9GM...</td>\n",
       "    </tr>\n",
       "    <tr>\n",
       "      <th>4</th>\n",
       "      <td>Re: ML2016_fall 494 kargalstev</td>\n",
       "      <td>[[None, ML2017_Aut_fall_494_kargaltsev.ipynb]]</td>\n",
       "      <td>Sat, 4 Nov 2017 23:51:16 +0300</td>\n",
       "      <td>=?UTF-8?B?0KHRgtC10L/QsNC9INCa0LDRgNCz0LDQu9GM...</td>\n",
       "    </tr>\n",
       "    <tr>\n",
       "      <th>5</th>\n",
       "      <td>NaN</td>\n",
       "      <td>NaN</td>\n",
       "      <td>NaN</td>\n",
       "      <td>NaN</td>\n",
       "    </tr>\n",
       "  </tbody>\n",
       "</table>\n",
       "</div>"
      ],
      "text/plain": [
       "                                             Subject  \\\n",
       "0   =?UTF-8?B?TUwyMDE3X0F1dF9mYWxsIDQ5NSBaaGFya292?=   \n",
       "1  =?utf-8?B?TUwyMDE3X0F1dF9mYWxsIDQ5OSDQotGA0YPQ...   \n",
       "2                        ML2017_Aut_fall 494 Nemilov   \n",
       "3                         ML2016_fall 494 kargalstev   \n",
       "4                     Re: ML2016_fall 494 kargalstev   \n",
       "5                                                NaN   \n",
       "\n",
       "                                     Attachment_name  \\\n",
       "0  [[None, =?UTF-8?B?emhhcmtvdl80OTVfdGFzazUuaXB5...   \n",
       "1  [[None, trubakov_499_task5_1.ipynb, trubakov_4...   \n",
       "2  [[None, model_2017-11-04 12:53:21.480585.pkl, ...   \n",
       "3     [[None, recap_approx_qlearning.ipynb, ai.gif]]   \n",
       "4     [[None, ML2017_Aut_fall_494_kargaltsev.ipynb]]   \n",
       "5                                                NaN   \n",
       "\n",
       "                              Date  \\\n",
       "0  Sat, 04 Nov 2017 23:45:25 +0300   \n",
       "1  Sat, 04 Nov 2017 23:46:56 +0300   \n",
       "2   Sat, 4 Nov 2017 23:49:25 +0300   \n",
       "3   Sat, 4 Nov 2017 23:50:02 +0300   \n",
       "4   Sat, 4 Nov 2017 23:51:16 +0300   \n",
       "5                              NaN   \n",
       "\n",
       "                                                From  \n",
       "0  =?UTF-8?B?0JDQvdC00YDQtdC5INCW0LDRgNC60L7Qsg==...  \n",
       "1  =?utf-8?B?0JDQvdGC0L7QvSDQotGA0YPQsdCw0LrQvtCy...  \n",
       "2  =?UTF-8?B?0J3QtdC80LjQu9C+0LIsINCc0LjRhdCw0LjQ...  \n",
       "3  =?UTF-8?B?0KHRgtC10L/QsNC9INCa0LDRgNCz0LDQu9GM...  \n",
       "4  =?UTF-8?B?0KHRgtC10L/QsNC9INCa0LDRgNCz0LDQu9GM...  \n",
       "5                                                NaN  "
      ]
     },
     "execution_count": 98,
     "metadata": {},
     "output_type": "execute_result"
    }
   ],
   "source": [
    "df_email"
   ]
  },
  {
   "cell_type": "code",
   "execution_count": 97,
   "metadata": {},
   "outputs": [
    {
     "data": {
      "text/plain": [
       "['ML2017_Aut_fall 494 Miller',\n",
       " '=?utf-8?B?0KHQtdGA0LPQtdC5INCc0LjQu9C70LXRgA==?= <sergey.miller@phystech.edu>',\n",
       " 'Sat, 4 Nov 2017 23:51:48 +0300',\n",
       " [['Miller_494_task5.ipynb']]]"
      ]
     },
     "execution_count": 97,
     "metadata": {},
     "output_type": "execute_result"
    }
   ],
   "source": [
    "[msg['subject'], msg['from'], msg['date'], [[msg.get_payload()[x].get_filename() for x in range(len(msg.get_payload()))]] ]"
   ]
  },
  {
   "cell_type": "code",
   "execution_count": 109,
   "metadata": {},
   "outputs": [
    {
     "ename": "NameError",
     "evalue": "name 'x' is not defined",
     "output_type": "error",
     "traceback": [
      "\u001b[1;31m---------------------------------------------------------------------------\u001b[0m",
      "\u001b[1;31mNameError\u001b[0m                                 Traceback (most recent call last)",
      "\u001b[1;32m<ipython-input-109-029e5aa71c34>\u001b[0m in \u001b[0;36m<module>\u001b[1;34m()\u001b[0m\n\u001b[1;32m----> 1\u001b[1;33m \u001b[0mmsg\u001b[0m\u001b[1;33m.\u001b[0m\u001b[0mget_payload\u001b[0m\u001b[1;33m(\u001b[0m\u001b[1;33m)\u001b[0m\u001b[1;33m[\u001b[0m\u001b[0mx\u001b[0m\u001b[1;33m]\u001b[0m\u001b[1;33m.\u001b[0m\u001b[0mget_filename\u001b[0m\u001b[1;33m(\u001b[0m\u001b[1;33m)\u001b[0m\u001b[1;33m\u001b[0m\u001b[0m\n\u001b[0m",
      "\u001b[1;31mNameError\u001b[0m: name 'x' is not defined"
     ]
    }
   ],
   "source": [
    "msg.get_payload()[x].get_filename()"
   ]
  },
  {
   "cell_type": "code",
   "execution_count": 118,
   "metadata": {},
   "outputs": [
    {
     "name": "stdout",
     "output_type": "stream",
     "text": [
      "\r\n",
      "\n",
      "\n"
     ]
    }
   ],
   "source": [
    "ctr=0\n",
    "for i in id_list[-200:-1]: \n",
    "    typ, data  = mail.fetch(i, '(RFC822)')\n",
    "    for response_part in data:\n",
    "        if isinstance(response_part, tuple):\n",
    "            msg = email.message_from_string(response_part[1].decode('utf-8'))\n",
    "            att = []\n",
    "            for x in msg.get_payload():\n",
    "                try:\n",
    "                    att.append(x.get_filename())\n",
    "                except:\n",
    "                    print(x)\n",
    "            new_mail = np.array([msg['subject'], msg['from'], msg['date'], att], dtype='object')\n",
    "            df_email.loc[ctr, ['Subject', 'From', 'Date', 'Attachment_name']] = new_mail\n",
    "            ctr+=1"
   ]
  },
  {
   "cell_type": "code",
   "execution_count": 117,
   "metadata": {},
   "outputs": [
    {
     "data": {
      "text/html": [
       "<div>\n",
       "<style scoped>\n",
       "    .dataframe tbody tr th:only-of-type {\n",
       "        vertical-align: middle;\n",
       "    }\n",
       "\n",
       "    .dataframe tbody tr th {\n",
       "        vertical-align: top;\n",
       "    }\n",
       "\n",
       "    .dataframe thead th {\n",
       "        text-align: right;\n",
       "    }\n",
       "</style>\n",
       "<table border=\"1\" class=\"dataframe\">\n",
       "  <thead>\n",
       "    <tr style=\"text-align: right;\">\n",
       "      <th></th>\n",
       "      <th>Subject</th>\n",
       "      <th>Attachment_name</th>\n",
       "      <th>Date</th>\n",
       "      <th>From</th>\n",
       "    </tr>\n",
       "  </thead>\n",
       "  <tbody>\n",
       "    <tr>\n",
       "      <th>0</th>\n",
       "      <td>ML_2018_fall 591 Goncharov</td>\n",
       "      <td>[None, ML2018_Goncharov_591_task1.ipynb]</td>\n",
       "      <td>Mon, 19 Mar 2018 06:25:11 +0300</td>\n",
       "      <td>=?UTF-8?B?0JrQuNGA0LjQu9C7INCT0L7QvdGH0LDRgNC+...</td>\n",
       "    </tr>\n",
       "  </tbody>\n",
       "</table>\n",
       "</div>"
      ],
      "text/plain": [
       "                      Subject                           Attachment_name  \\\n",
       "0  ML_2018_fall 591 Goncharov  [None, ML2018_Goncharov_591_task1.ipynb]   \n",
       "\n",
       "                              Date  \\\n",
       "0  Mon, 19 Mar 2018 06:25:11 +0300   \n",
       "\n",
       "                                                From  \n",
       "0  =?UTF-8?B?0JrQuNGA0LjQu9C7INCT0L7QvdGH0LDRgNC+...  "
      ]
     },
     "execution_count": 117,
     "metadata": {},
     "output_type": "execute_result"
    }
   ],
   "source": [
    "df_email"
   ]
  }
 ],
 "metadata": {
  "kernelspec": {
   "display_name": "Python 3",
   "language": "python",
   "name": "python3"
  },
  "language_info": {
   "codemirror_mode": {
    "name": "ipython",
    "version": 3
   },
   "file_extension": ".py",
   "mimetype": "text/x-python",
   "name": "python",
   "nbconvert_exporter": "python",
   "pygments_lexer": "ipython3",
   "version": "3.6.1"
  }
 },
 "nbformat": 4,
 "nbformat_minor": 2
}
